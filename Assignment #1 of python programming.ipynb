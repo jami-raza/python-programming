{
 "cells": [
  {
   "cell_type": "code",
   "execution_count": 38,
   "metadata": {},
   "outputs": [
    {
     "name": "stdout",
     "output_type": "stream",
     "text": [
      "twinkle, twinkle, little star,                                                                                                                                                                                                                                   How I wonder what you are!                                                                                                                            Up above the world so high,                                                                                                                            Like a diamond in the sky.                                                                                                                            twinkle, twinkle, little star,                                                                                                                                                                                                                                                                                                                                                               How I wonder what you are!\n"
     ]
    }
   ],
   "source": [
    "a=\"twinkle\"\n",
    "b=\", \"\n",
    "c=\"twinkle\"\n",
    "d=\", \"\n",
    "e=\"little\" \" \" \"star,\" \"                                                                                                       \"\n",
    "f=\"                                                                                                                            \"\n",
    "g=\"How\" \" \" \"I\" \" \" \"wonder\" \" \" \"what\" \" \" \"you\" \" \" \"are!\"\n",
    "h=\"                                                                                                                            \"\n",
    "i=\"Up\" \" \" \"above\" \" \" \"the\" \" \" \"world\" \" \" \"so\" \" \" \"high,\"\n",
    "j=\"                                                                                                                            \"\n",
    "k=\"Like\" \" \" \"a\" \" \" \"diamond\" \" \" \"in\" \" \" \"the\" \" \" \"sky.\"\n",
    "l=\"                                                                                                                            \"\n",
    "\n",
    "poem=a+b+c+d+e+f\n",
    "print(poem+g+h+i+j+k+l+poem+f+g)"
   ]
  },
  {
   "cell_type": "code",
   "execution_count": 44,
   "metadata": {},
   "outputs": [
    {
     "name": "stdout",
     "output_type": "stream",
     "text": [
      "python version\n",
      "3.7.4 (default, Aug  9 2019, 18:34:13) [MSC v.1915 64 bit (AMD64)]\n",
      "version information\n",
      "sys.version_info(major=3, minor=7, micro=4, releaselevel='final', serial=0)\n"
     ]
    }
   ],
   "source": [
    "import sys\n",
    "print(\"python version\")\n",
    "print(sys.version)\n",
    "print(\"version information\")\n",
    "print(sys.version_info)"
   ]
  },
  {
   "cell_type": "code",
   "execution_count": 47,
   "metadata": {},
   "outputs": [
    {
     "name": "stdout",
     "output_type": "stream",
     "text": [
      "current date and time\n",
      "19-11-11 20:21:21\n"
     ]
    }
   ],
   "source": [
    "import datetime\n",
    "now=datetime.datetime.now()\n",
    "print(\"current date and time\")\n",
    "print(now.strftime(\"%y-%m-%d %H:%M:%S\"))"
   ]
  },
  {
   "cell_type": "code",
   "execution_count": 53,
   "metadata": {},
   "outputs": [
    {
     "name": "stdout",
     "output_type": "stream",
     "text": [
      "Enter the radius of circle:50\n",
      "the area of circle 7850.0\n"
     ]
    }
   ],
   "source": [
    "\n",
    "r=int(input(\"Enter the radius of circle:\"))\n",
    "area=3.14*r**2\n",
    "print(\"the area of circle\",area)"
   ]
  },
  {
   "cell_type": "code",
   "execution_count": 70,
   "metadata": {},
   "outputs": [
    {
     "name": "stdout",
     "output_type": "stream",
     "text": [
      "Enter your first name:Jami\n",
      "Enter your last name:Raza\n",
      "Reversed:\n",
      "Raza Jami\n"
     ]
    }
   ],
   "source": [
    "first_name=input(\"Enter your first name:\" )\n",
    "last_name=input(\"Enter your last name:\" )\n",
    "print(\"Reversed:\")\n",
    "print(last_name + \" \" + first_name )"
   ]
  },
  {
   "cell_type": "code",
   "execution_count": 72,
   "metadata": {},
   "outputs": [
    {
     "name": "stdout",
     "output_type": "stream",
     "text": [
      "Enter your per day income: 300\n",
      "Enter the number of days: 25\n",
      "Your Salary\n",
      "7500\n"
     ]
    }
   ],
   "source": [
    "income=int(input(\"Enter your per day income: \"))\n",
    "day=int(input(\"Enter the number of days: \"))\n",
    "print(\"Your Salary\")\n",
    "print(income*day)"
   ]
  },
  {
   "cell_type": "code",
   "execution_count": null,
   "metadata": {},
   "outputs": [],
   "source": []
  }
 ],
 "metadata": {
  "kernelspec": {
   "display_name": "Python 3",
   "language": "python",
   "name": "python3"
  },
  "language_info": {
   "codemirror_mode": {
    "name": "ipython",
    "version": 3
   },
   "file_extension": ".py",
   "mimetype": "text/x-python",
   "name": "python",
   "nbconvert_exporter": "python",
   "pygments_lexer": "ipython3",
   "version": "3.7.4"
  }
 },
 "nbformat": 4,
 "nbformat_minor": 2
}

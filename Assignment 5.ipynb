{
 "cells": [
  {
   "cell_type": "code",
   "execution_count": 28,
   "metadata": {},
   "outputs": [
    {
     "name": "stdout",
     "output_type": "stream",
     "text": [
      "Answer No.1\n",
      "Enter your number4\n",
      "factorial of 4 is 24\n"
     ]
    }
   ],
   "source": [
    "print(\"Answer No.1\")\n",
    "def factorial(a):\n",
    "    fact=1\n",
    "    for p in range(a,0,-1):\n",
    "        fact=fact*p\n",
    "    return fact\n",
    "n=int(input(\"Enter your number\"))\n",
    "res=factorial(n)\n",
    "print(\"factorial of\",n,\"is\",res)\n",
    "    "
   ]
  },
  {
   "cell_type": "code",
   "execution_count": 29,
   "metadata": {},
   "outputs": [
    {
     "name": "stdout",
     "output_type": "stream",
     "text": [
      "Answer No.2\n",
      "original string  : I am Thankfull to be a part of Python Programming\n",
      "Total upper case : 4\n",
      "Total lower case : 36\n"
     ]
    }
   ],
   "source": [
    "print(\"Answer No.2\")\n",
    "def countdata(strdata):\n",
    "    sencase={'ucase':0, 'lcase':0}\n",
    "    for k in strdata:\n",
    "        if k.isupper():\n",
    "            sencase[\"ucase\"]+=1\n",
    "        elif k.islower():\n",
    "            sencase[\"lcase\"]+=1\n",
    "        else:\n",
    "            pass\n",
    "    print(\"original string  :\",strdata)\n",
    "    print(\"Total upper case :\",sencase[\"ucase\"])\n",
    "    print(\"Total lower case :\",sencase[\"lcase\"])\n",
    "countdata(\"I am Thankfull to be a part of Python Programming\")"
   ]
  },
  {
   "cell_type": "code",
   "execution_count": 30,
   "metadata": {},
   "outputs": [
    {
     "name": "stdout",
     "output_type": "stream",
     "text": [
      "Answer No.3\n",
      "List of all even numbers:  [2, 4, 6, 8, 10]\n"
     ]
    }
   ],
   "source": [
    "print(\"Answer No.3\")\n",
    "def evenum(k):\n",
    "    ev=[]\n",
    "    for n in k:\n",
    "        if n % 2==0:\n",
    "            ev.append(n)\n",
    "    return ev\n",
    "print(\"List of all even numbers: \",evenum([1,2,3,4,5,6,7,8,9,10]))"
   ]
  },
  {
   "cell_type": "code",
   "execution_count": 31,
   "metadata": {},
   "outputs": [
    {
     "name": "stdout",
     "output_type": "stream",
     "text": [
      "Answer No.4\n",
      "Enter your String :madam\n",
      "string : madam\n",
      "reverse : madam\n",
      "This is Palindrome\n"
     ]
    }
   ],
   "source": [
    "print(\"Answer No.4\")\n",
    "def check(st):\n",
    "    rev=st[::-1]\n",
    "    print(\"string :\",st)\n",
    "    print(\"reverse :\",rev)\n",
    "    if (st==rev):\n",
    "        return True\n",
    "    else:\n",
    "        return False\n",
    "    \n",
    "    \n",
    "x=input(\"Enter your String :\")\n",
    "if check(x):\n",
    "    print(\"This is Palindrome\")\n",
    "else:\n",
    "    print(\"This is not a Palindrome\")"
   ]
  },
  {
   "cell_type": "code",
   "execution_count": 32,
   "metadata": {},
   "outputs": [
    {
     "name": "stdout",
     "output_type": "stream",
     "text": [
      "Answer No.5\n",
      "Enter your number :13\n",
      "13 is a prime number\n"
     ]
    }
   ],
   "source": [
    "print(\"Answer No.5\")\n",
    "def prime(num,i):\n",
    "    if (i==1):\n",
    "        return 1\n",
    "    if (num % i)==0:\n",
    "        return 0\n",
    "    return prime(num,i-1)\n",
    "num=int(input(\"Enter your number :\"))\n",
    "n=prime(num,int(num/2))\n",
    "if (n==1):\n",
    "    print(num,\"is a prime number\")\n",
    "else:\n",
    "    print(num,\"is not a prime number\")"
   ]
  },
  {
   "cell_type": "code",
   "execution_count": 36,
   "metadata": {},
   "outputs": [
    {
     "name": "stdout",
     "output_type": "stream",
     "text": [
      "Answer No.6\n",
      "Shopping list\n",
      "('knife', 'Dairy milk', 'Powder', 'button', 'Spoon')\n"
     ]
    }
   ],
   "source": [
    "print(\"Answer No.6\")\n",
    "print(\"Shopping list\")\n",
    "def record(*data):\n",
    "    print (data)\n",
    "    \n",
    "record(\"knife\",\"Dairy milk\",\"Powder\",\"button\",\"Spoon\")    "
   ]
  },
  {
   "cell_type": "code",
   "execution_count": null,
   "metadata": {},
   "outputs": [],
   "source": []
  }
 ],
 "metadata": {
  "kernelspec": {
   "display_name": "Python 3",
   "language": "python",
   "name": "python3"
  },
  "language_info": {
   "codemirror_mode": {
    "name": "ipython",
    "version": 3
   },
   "file_extension": ".py",
   "mimetype": "text/x-python",
   "name": "python",
   "nbconvert_exporter": "python",
   "pygments_lexer": "ipython3",
   "version": "3.7.4"
  }
 },
 "nbformat": 4,
 "nbformat_minor": 2
}

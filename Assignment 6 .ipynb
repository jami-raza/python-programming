{
 "cells": [
  {
   "cell_type": "code",
   "execution_count": 1,
   "metadata": {},
   "outputs": [
    {
     "name": "stdout",
     "output_type": "stream",
     "text": [
      "Answer No.1\n",
      "Object-oriented programming (OOP) is a programming language model in which programs are organized around data, or objects, rather than functions and logic. An object can be defined as a data field that has unique attributes and behavior.\n"
     ]
    }
   ],
   "source": [
    "print(\"Answer No.1\")\n",
    "print(\"Object-oriented programming (OOP) is a programming language model in which programs are organized around data, or objects, rather than functions and logic. An object can be defined as a data field that has unique attributes and behavior.\")"
   ]
  },
  {
   "cell_type": "code",
   "execution_count": 5,
   "metadata": {},
   "outputs": [
    {
     "name": "stdout",
     "output_type": "stream",
     "text": [
      "Answer No.2\n",
      "1 It provides a clear modular structure for programs which makes it good for defining abstract datatypes in which implementation details are hidden.\n",
      "Objects can also be reused within an across applications\n",
      "It makes software easier to maintain\n",
      "Reuse also enables faster development.\n"
     ]
    }
   ],
   "source": [
    "print(\"Answer No.2\")\n",
    "print(\"It provides a clear modular structure for programs which makes it good for defining abstract datatypes in which implementation details are hidden.\")\n",
    "print(\"Objects can also be reused within an across applications\")\n",
    "print(\"It makes software easier to maintain\")\n",
    "print(\"Reuse also enables faster development.\")"
   ]
  },
  {
   "cell_type": "code",
   "execution_count": 6,
   "metadata": {},
   "outputs": [
    {
     "name": "stdout",
     "output_type": "stream",
     "text": [
      "Answer No.3\n",
      "A function is a piece of code that is called by name. It can be passed data to operate on (i.e. the parameters) and can optionally return data (the return value)\n",
      "A method is a piece of code that is called by a name that is associated with an object\n"
     ]
    }
   ],
   "source": [
    "print(\"Answer No.3\")\n",
    "function = (\"A function is a piece of code that is called by name. It can be passed data to operate on (i.e. the parameters) and can optionally return data (the return value)\")\n",
    "method = (\"A method is a piece of code that is called by a name that is associated with an object\")\n",
    "print(function)\n",
    "print(method)"
   ]
  },
  {
   "cell_type": "code",
   "execution_count": 7,
   "metadata": {},
   "outputs": [
    {
     "name": "stdout",
     "output_type": "stream",
     "text": [
      "Answer No.4\n",
      "CLASS\n",
      "A class is a code template for creating objects.\n",
      "OBJECT\n",
      "objects are the things you think about first in designing a program and they are also the units of code that are eventually derived from the process\n",
      "ATTRIBUTE\n",
      "An attribute is defined as a quality or characteristic of a person, place, or thing. Real life individuals and fictional characters possess various attributes\n",
      "BEHAVIOR\n",
      "Behavior is define as what object can do such as a car which object is door and its behavior like open and close\n"
     ]
    }
   ],
   "source": [
    "print(\"Answer No.4\")\n",
    "classss = (\"CLASS\")\n",
    "classs = (\"A class is a code template for creating objects.\")\n",
    "objects = (\"OBJECT\")\n",
    "object1 = (\"objects are the things you think about first in designing a program and they are also the units of code that are eventually derived from the process\")\n",
    "attribute = (\"ATTRIBUTE\")\n",
    "attribute1 = (\"An attribute is defined as a quality or characteristic of a person, place, or thing. Real life individuals and fictional characters possess various attributes\")\n",
    "beehavior = (\"BEHAVIOR\")\n",
    "behaviour = (\"Behavior is define as what object can do such as a car which object is door and its behavior like open and close\")\n",
    "print(classss)\n",
    "print(classs)\n",
    "print(objects)\n",
    "print(object1)\n",
    "print(attribute)\n",
    "print(attribute1)\n",
    "print(beehavior)\n",
    "print(behaviour)"
   ]
  },
  {
   "cell_type": "code",
   "execution_count": 10,
   "metadata": {},
   "outputs": [
    {
     "name": "stdout",
     "output_type": "stream",
     "text": [
      "Answer No.5\n",
      "Civic\n",
      "Black\n",
      "2018\n",
      "2200\n"
     ]
    }
   ],
   "source": [
    "print(\"Answer No.5\")\n",
    "class Car():\n",
    "    def __init__(self,name,model,color,cc):\n",
    "        self.name = name\n",
    "        self.model = model\n",
    "        self.color = color\n",
    "        self.cc = cc\n",
    "car1 = Car(\"Civic\",2018,\"Black\",2200)\n",
    "print(car1.name)\n",
    "print(car1.color)\n",
    "print(car1.model)\n",
    "print(car1.cc)"
   ]
  },
  {
   "cell_type": "code",
   "execution_count": null,
   "metadata": {},
   "outputs": [],
   "source": []
  }
 ],
 "metadata": {
  "kernelspec": {
   "display_name": "Python 3",
   "language": "python",
   "name": "python3"
  },
  "language_info": {
   "codemirror_mode": {
    "name": "ipython",
    "version": 3
   },
   "file_extension": ".py",
   "mimetype": "text/x-python",
   "name": "python",
   "nbconvert_exporter": "python",
   "pygments_lexer": "ipython3",
   "version": "3.7.4"
  }
 },
 "nbformat": 4,
 "nbformat_minor": 2
}

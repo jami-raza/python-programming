{
 "cells": [
  {
   "cell_type": "code",
   "execution_count": 16,
   "metadata": {
    "scrolled": true
   },
   "outputs": [
    {
     "name": "stdout",
     "output_type": "stream",
     "text": [
      "Enter the first number 5\n",
      "Enter the second number 2\n",
      "Enter the operator **\n",
      "25\n"
     ]
    }
   ],
   "source": [
    "val1 = int(input(\"Enter the first number \"))\n",
    "val2 = int(input('Enter the second number '))\n",
    "operator=input('Enter the operator ')\n",
    "if operator == '+':\n",
    "    value=val1 + val2\n",
    "    print(value)\n",
    "elif operator == '-':\n",
    "    value=val1-val2\n",
    "    print(value)\n",
    "elif operator == '*':\n",
    "    value=val1 * val2\n",
    "    print(value)\n",
    "elif operator == '/':\n",
    "    value=val1 / val2\n",
    "    print(value)\n",
    "elif operator == '**':\n",
    "    value=val1 ** val2\n",
    "    print(value)\n",
    "else :\n",
    "    print(\"Please enter correct operator\")"
   ]
  },
  {
   "cell_type": "code",
   "execution_count": 26,
   "metadata": {},
   "outputs": [
    {
     "name": "stdout",
     "output_type": "stream",
     "text": [
      "check list using for loop\n",
      "Enter numeric value 4\n",
      "one present\n",
      "2 present\n",
      "three present\n",
      "4 present\n",
      "five present\n",
      "6 present\n",
      "seven present\n"
     ]
    }
   ],
   "source": [
    "print(\"check list using for loop\")\n",
    "list_a = [\"one\", 2, \"three\", 4, \"five\", 6, \"seven\"]\n",
    "user = int(input(\"Enter numeric value \"))\n",
    "for user in list_a:\n",
    "    print(user, \"present\")"
   ]
  },
  {
   "cell_type": "code",
   "execution_count": 17,
   "metadata": {},
   "outputs": [
    {
     "name": "stdout",
     "output_type": "stream",
     "text": [
      "{'first name': 'Jami', 'lastname': 'Raza', 'address': 'Jamshed road 3 Karachi'}\n"
     ]
    }
   ],
   "source": [
    "customer = {\"first name\": \"Jami\", \"lastname\": \"Raza\", \"address\": \"Jamshed road 3 Karachi\"}\n",
    "print(customer) "
   ]
  },
  {
   "cell_type": "code",
   "execution_count": 18,
   "metadata": {},
   "outputs": [
    {
     "name": "stdout",
     "output_type": "stream",
     "text": [
      "Adding key in dictionary\n",
      "{'first name': 'Jami', 'lastname': 'Raza', 'address': 'Jamshed road 3 Karachi', 'e-mail': 'muhammadjami45@gmail.com'}\n"
     ]
    }
   ],
   "source": [
    "print(\"Adding key in dictionary\")\n",
    "customer[\"e-mail\"] = \"muhammadjami45@gmail.com\"\n",
    "print(customer)"
   ]
  },
  {
   "cell_type": "code",
   "execution_count": 22,
   "metadata": {},
   "outputs": [
    {
     "name": "stdout",
     "output_type": "stream",
     "text": [
      "Sum all the numeric item in a dictionary\n",
      "141.5\n"
     ]
    }
   ],
   "source": [
    "dictionary={20,40,70,11,0,0.5}\n",
    "ans=sum(dictionary)\n",
    "print(\"Sum all the numeric item in a dictionary\")\n",
    "print(ans)"
   ]
  },
  {
   "cell_type": "code",
   "execution_count": 23,
   "metadata": {},
   "outputs": [
    {
     "name": "stdout",
     "output_type": "stream",
     "text": [
      "Identify duplicate values in List\n",
      "[1, 3, 5]\n"
     ]
    }
   ],
   "source": [
    "list1 = [\"Jami\",\"Raza\",\"Mobile\",\"Raza\",\"1000\",\"Raza\"]\n",
    "list2 = [i for i in range (len(list1)) if list1[i] == \"Raza\"]\n",
    "print(\"Identify duplicate values in List\")\n",
    "print(list2)"
   ]
  },
  {
   "cell_type": "code",
   "execution_count": 24,
   "metadata": {},
   "outputs": [
    {
     "name": "stdout",
     "output_type": "stream",
     "text": [
      "To find key is present or not\n",
      "Enter a key to verified samosa\n",
      "item is present\n",
      "rupee : 20\n"
     ]
    }
   ],
   "source": [
    "print(\"To find key is present or not\")\n",
    "dic = {'roll': 10, 'samosa' : 20, 'burger' : 25, 'drink' : 50}\n",
    "user = input(\"Enter a key to verified \")\n",
    "if user in dic.keys():\n",
    "    print(\"item is present\")\n",
    "    print('rupee',':',dic[user])\n",
    "else:\n",
    "    print(\"item is not present\")"
   ]
  },
  {
   "cell_type": "code",
   "execution_count": null,
   "metadata": {},
   "outputs": [],
   "source": [
    "\n",
    "        "
   ]
  },
  {
   "cell_type": "code",
   "execution_count": null,
   "metadata": {},
   "outputs": [],
   "source": []
  },
  {
   "cell_type": "code",
   "execution_count": null,
   "metadata": {},
   "outputs": [],
   "source": []
  }
 ],
 "metadata": {
  "kernelspec": {
   "display_name": "Python 3",
   "language": "python",
   "name": "python3"
  },
  "language_info": {
   "codemirror_mode": {
    "name": "ipython",
    "version": 3
   },
   "file_extension": ".py",
   "mimetype": "text/x-python",
   "name": "python",
   "nbconvert_exporter": "python",
   "pygments_lexer": "ipython3",
   "version": "3.7.4"
  }
 },
 "nbformat": 4,
 "nbformat_minor": 2
}

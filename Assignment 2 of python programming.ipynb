{
 "cells": [
  {
   "cell_type": "code",
   "execution_count": 43,
   "metadata": {},
   "outputs": [
    {
     "name": "stdout",
     "output_type": "stream",
     "text": [
      "Enter your English marks out of 100?: 23\n",
      "Enter your Urdu marks out of 100?: 49\n",
      "Enter your Math marks out of 100?: 79\n",
      "Enter your Physics marks out of 100?: 90\n",
      "Enter your Computer Sci marks out of 100?: 95\n",
      "Your total marks: \n",
      "336\n",
      "Your percentage is: \n",
      "67\n",
      "Your grade is: \n",
      "B\n"
     ]
    }
   ],
   "source": [
    "english=int(input(\"Enter your English marks out of 100?: \"))\n",
    "urdu=int(input(\"Enter your Urdu marks out of 100?: \"))\n",
    "maths=int(input(\"Enter your Math marks out of 100?: \"))\n",
    "physics=int(input(\"Enter your Physics marks out of 100?: \"))\n",
    "computersci=int(input(\"Enter your Computer Sci marks out of 100?: \"))\n",
    "print(\"Your total marks: \")\n",
    "Totalmarks=int(english+urdu+maths+physics+computersci)\n",
    "print(Totalmarks)\n",
    "per=int(Totalmarks*100/500)\n",
    "print(\"Your percentage is: \")\n",
    "print(per)\n",
    "print(\"Your grade is: \")\n",
    "if per >= 80 and per <= 100:\n",
    "    print(\"A+\")\n",
    "elif per >= 70 and per <= 80:\n",
    "    print(\"A\")\n",
    "elif per >= 60 and per <= 70:\n",
    "    print(\"B\")\n",
    "elif per >= 50 and per <= 60:\n",
    "    print(\"C\")\n",
    "elif per >= 40 and per <= 50:\n",
    "    print(\"D\")\n",
    "elif per >= 33 and per <= 40:\n",
    "    print(\"E\")\n",
    "else :\n",
    "    print(\"You are fail!\")"
   ]
  },
  {
   "cell_type": "code",
   "execution_count": 42,
   "metadata": {},
   "outputs": [
    {
     "name": "stdout",
     "output_type": "stream",
     "text": [
      "Find even or odd number: \n",
      "Enter a number:  31\n",
      "31 is odd number\n"
     ]
    }
   ],
   "source": [
    "print(\"Find even or odd number: \")\n",
    "a=int(input(\"Enter a number:  \"))\n",
    "if a%2==0:\n",
    "    print(a,\"is even number\")\n",
    "else:\n",
    "    print(a,\"is odd number\")\n",
    "\n"
   ]
  },
  {
   "cell_type": "code",
   "execution_count": 41,
   "metadata": {},
   "outputs": [
    {
     "name": "stdout",
     "output_type": "stream",
     "text": [
      "The length of list is: \n"
     ]
    },
    {
     "data": {
      "text/plain": [
       "5"
      ]
     },
     "execution_count": 41,
     "metadata": {},
     "output_type": "execute_result"
    }
   ],
   "source": [
    "print(\"The length of list is: \")\n",
    "len([\"jami\",\"raza\",\"ali\",\"Hammad\",\"Zunair\"])"
   ]
  },
  {
   "cell_type": "code",
   "execution_count": 40,
   "metadata": {},
   "outputs": [
    {
     "name": "stdout",
     "output_type": "stream",
     "text": [
      "Total number in a list:  \n",
      "34\n"
     ]
    }
   ],
   "source": [
    "item=[12, 3, 14, 5]\n",
    "ans=sum(item)\n",
    "print(\"Total number in a list:  \")\n",
    "print(ans)"
   ]
  },
  {
   "cell_type": "code",
   "execution_count": 39,
   "metadata": {},
   "outputs": [
    {
     "name": "stdout",
     "output_type": "stream",
     "text": [
      "The largest number in a list\n",
      "14\n"
     ]
    }
   ],
   "source": [
    "item=[12, 3, 14, 5]\n",
    "print(\"The largest number in a list\")\n",
    "print(max(item))"
   ]
  },
  {
   "cell_type": "code",
   "execution_count": 38,
   "metadata": {},
   "outputs": [
    {
     "name": "stdout",
     "output_type": "stream",
     "text": [
      "List of numbers less than 5\n",
      "[1, 1, 2, 3]\n"
     ]
    }
   ],
   "source": [
    "print(\"List of numbers less than 5\")\n",
    "a=[1, 1, 2, 3, 5, 8, 13, 21, 34, 55, 89]\n",
    "num = 5\n",
    "new_list = []\n",
    "for i in a:\n",
    "    if i < num:\n",
    "        new_list.append(i)\n",
    "print(new_list)"
   ]
  },
  {
   "cell_type": "code",
   "execution_count": null,
   "metadata": {},
   "outputs": [],
   "source": []
  },
  {
   "cell_type": "code",
   "execution_count": null,
   "metadata": {},
   "outputs": [],
   "source": []
  },
  {
   "cell_type": "code",
   "execution_count": null,
   "metadata": {},
   "outputs": [],
   "source": []
  }
 ],
 "metadata": {
  "kernelspec": {
   "display_name": "Python 3",
   "language": "python",
   "name": "python3"
  },
  "language_info": {
   "codemirror_mode": {
    "name": "ipython",
    "version": 3
   },
   "file_extension": ".py",
   "mimetype": "text/x-python",
   "name": "python",
   "nbconvert_exporter": "python",
   "pygments_lexer": "ipython3",
   "version": "3.7.4"
  }
 },
 "nbformat": 4,
 "nbformat_minor": 2
}

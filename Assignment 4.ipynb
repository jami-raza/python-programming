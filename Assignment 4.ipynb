{
 "cells": [
  {
   "cell_type": "code",
   "execution_count": 1,
   "metadata": {},
   "outputs": [
    {
     "name": "stdout",
     "output_type": "stream",
     "text": [
      "ANSWWER No. 1\n",
      "{'first_name': 'Jami', 'last_name': 'Raza', 'age': 20, 'city': 'Karachi'}\n"
     ]
    }
   ],
   "source": [
    "print(\"ANSWWER No. 1\")\n",
    "data = {\"first_name\" : \"Jami\", \"last_name\" : \"Raza\", \"age\" : 20, \"city\" : \"Karachi\"}\n",
    "print(data)"
   ]
  },
  {
   "cell_type": "code",
   "execution_count": 2,
   "metadata": {},
   "outputs": [
    {
     "name": "stdout",
     "output_type": "stream",
     "text": [
      "Adding a new key and value\n",
      "{'first_name': 'Jami', 'last_name': 'Raza', 'age': 20, 'city': 'Karachi', 'qualification': 'Matric'}\n"
     ]
    }
   ],
   "source": [
    "data[\"qualification\"] = \"Matric\"\n",
    "print(\"Adding a new key and value\")\n",
    "print(data)"
   ]
  },
  {
   "cell_type": "code",
   "execution_count": 3,
   "metadata": {},
   "outputs": [
    {
     "name": "stdout",
     "output_type": "stream",
     "text": [
      "Update value\n",
      "{'first_name': 'Jami', 'last_name': 'Raza', 'age': 20, 'city': 'Karachi', 'qualification': 'Inter'}\n"
     ]
    }
   ],
   "source": [
    "data[\"qualification\"] = \"Inter\"\n",
    "print(\"Update value\")\n",
    "print(data)"
   ]
  },
  {
   "cell_type": "code",
   "execution_count": 4,
   "metadata": {},
   "outputs": [
    {
     "name": "stdout",
     "output_type": "stream",
     "text": [
      "delete key and its value\n",
      "{'first_name': 'Jami', 'last_name': 'Raza', 'age': 20, 'city': 'Karachi'}\n"
     ]
    }
   ],
   "source": [
    "del data[\"qualification\"]\n",
    "print(\"delete key and its value\")\n",
    "print(data)"
   ]
  },
  {
   "cell_type": "code",
   "execution_count": 5,
   "metadata": {},
   "outputs": [
    {
     "name": "stdout",
     "output_type": "stream",
     "text": [
      "Answer No. 2 \n",
      "{'contury': 'Pakistan', 'city': 'Karachi', 'population': '2 crores', 'fact': 'pollution'}\n",
      "{'contury': 'Pakistan', 'city': 'Islamabbad', 'population': '60 lakhs', 'fact': 'Capital city'}\n",
      "{'contury': 'Pakistan', 'city': 'Quetta', 'population': '50 lakhs', 'fact': 'Dry fruits'}\n"
     ]
    }
   ],
   "source": [
    "cities = {\n",
    "    1: {\n",
    "        \"contury\" : \"Pakistan\",\n",
    "        \"city\" : \"Karachi\",\n",
    "        \"population\" : \"2 crores\",\n",
    "        \"fact\" : \"pollution\",\n",
    "    },\n",
    "    2: {\n",
    "        \"contury\" : \"Pakistan\",\n",
    "        \"city\" : \"Islamabbad\",\n",
    "        \"population\" : \"60 lakhs\",\n",
    "        \"fact\" : \"Capital city\",\n",
    "    },\n",
    "    3: {\n",
    "        \"contury\" : \"Pakistan\",\n",
    "        \"city\" : \"Quetta\",\n",
    "        \"population\" : \"50 lakhs\",\n",
    "        \"fact\" : \"Dry fruits\",\n",
    "    },\n",
    "}\n",
    "print(\"Answer No. 2 \")\n",
    "print(cities[1])\n",
    "print(cities[2])\n",
    "print(cities[3])"
   ]
  },
  {
   "cell_type": "code",
   "execution_count": 6,
   "metadata": {},
   "outputs": [
    {
     "name": "stdout",
     "output_type": "stream",
     "text": [
      "Answer No. 3 \n",
      "Enter your age  12\n",
      "Enter your age  3\n",
      "Enter your age  4\n",
      "Your ticket price is 10$\n"
     ]
    }
   ],
   "source": [
    "print(\"Answer No. 3 \")\n",
    "for i in range(3):\n",
    "    ticket = int(input(\"Enter your age  \"))\n",
    "if ticket <= 3 :\n",
    "    print(\"Your ticket is free \")\n",
    "elif ticket <= 12 :\n",
    "    print(\"Your ticket price is 10$\")\n",
    "elif ticket >= 12 :\n",
    "    print(\"Your ticket price is 15$\")\n",
    "else :\n",
    "    print(\"No ticket is available\")"
   ]
  },
  {
   "cell_type": "code",
   "execution_count": 9,
   "metadata": {},
   "outputs": [
    {
     "name": "stdout",
     "output_type": "stream",
     "text": [
      "Answer No. 4\n",
      "One of my favorite books is Alice in Wonderland.\n"
     ]
    }
   ],
   "source": [
    "print(\"Answer No. 4\")\n",
    "def favourite_book(book):\n",
    "    book = (\"One of my favorite books is Alice in Wonderland.\")\n",
    "    print(book)\n",
    "favourite_book(book=\"One of my favorite books is Alice in Wonderland.\")"
   ]
  },
  {
   "cell_type": "code",
   "execution_count": 11,
   "metadata": {},
   "outputs": [
    {
     "name": "stdout",
     "output_type": "stream",
     "text": [
      "Answer No. 5\n",
      "Guess a number between 1 to 30     25\n",
      "You need to guess smaller, Try again \n",
      "Guess a number between 1 to 30    12\n",
      "You need to guess higher, Try again \n",
      "Guess a number between 1 to 30   15\n",
      "You need to guess smaller, Try again \n",
      "Guess a number between 1 to 30    13\n",
      "You need to guess higher, Try again \n",
      "Guess a number between 1 to 30   14\n",
      "you guess the number correctly\n"
     ]
    }
   ],
   "source": [
    "print(\"Answer No. 5\")\n",
    "import random\n",
    "number = random.randrange(1,30)\n",
    "guess = int(input(\"Guess a number between 1 to 30     \"))\n",
    "while guess != number:\n",
    "    if guess < number:\n",
    "        print(\"You need to guess higher, Try again \")\n",
    "        guess = int(input(\"Guess a number between 1 to 30   \"))\n",
    "    else:\n",
    "        print(\"You need to guess smaller, Try again \")\n",
    "        guess = int(input(\"Guess a number between 1 to 30    \"))\n",
    "        \n",
    "print(\"you guess the number correctly\") "
   ]
  },
  {
   "cell_type": "code",
   "execution_count": null,
   "metadata": {},
   "outputs": [],
   "source": []
  }
 ],
 "metadata": {
  "kernelspec": {
   "display_name": "Python 3",
   "language": "python",
   "name": "python3"
  },
  "language_info": {
   "codemirror_mode": {
    "name": "ipython",
    "version": 3
   },
   "file_extension": ".py",
   "mimetype": "text/x-python",
   "name": "python",
   "nbconvert_exporter": "python",
   "pygments_lexer": "ipython3",
   "version": "3.7.4"
  }
 },
 "nbformat": 4,
 "nbformat_minor": 2
}
